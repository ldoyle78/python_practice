{
 "cells": [
  {
   "cell_type": "markdown",
   "metadata": {},
   "source": [
    "# Seinfeld Quote Generator"
   ]
  },
  {
   "cell_type": "markdown",
   "metadata": {},
   "source": [
    "A somewhat ridiculous project based on the best tv sitcom ever. I am just trying to get some practice with python control structures and function definitions.\n",
    "\n",
    "\n",
    "  <img src = \"SeinfeldImage.jpg\" width = \"200\" align = \"left\" margin = 0>\n",
    "\n"
   ]
  },
  {
   "cell_type": "code",
   "execution_count": 1,
   "metadata": {},
   "outputs": [
    {
     "name": "stdout",
     "output_type": "stream",
     "text": [
      "Who is your favorite Seinfeld character? Jerry, Kramer, Elaine or George: Elaine\n",
      "Are you feeling self-doubt, vendictive, hungry or surprised?: self-doubt\n",
      "Is it possible I'm not as attractive as I think I am?\n",
      "Want to try again? y/n: y\n",
      "Pick another character? Jerry, Kramer, Elaine or George: George\n",
      "Are you feeling good or bad today?: bad\n",
      "Are you tired, defeated, torn, or deceitful?: defeated\n",
      "Yeah, I'm a quitter. It's one of the few things I do well. I come from a long line of quitters\n",
      "Want to try again? y/n: y\n",
      "Pick another character? Jerry, Kramer, Elaine or George: Kramer\n",
      "Are you feeling awesome, thirsty, or unattractive?: awesome\n",
      "I'm out there Jerry and I'm lovin' every minute of it!\n",
      "Want to try again? y/n: n\n",
      "Thanks for playing. Have a Merry Festivus!\n"
     ]
    }
   ],
   "source": [
    "def seinfeld_quote(character):\n",
    "\n",
    "    \"\"\" Interactive Seinfeld Quote generator \"\"\"\n",
    "\n",
    "    if character == \"Jerry\":\n",
    "        input_two = input(\"Are you cheerful or mad?: \")\n",
    "        if input_two == \"cheerful\":\n",
    "            return(\"If you want to make a person feel better after they sneeze, you shouldn’t say ‘God bless you.’ You should say, ‘You’re so good looking!\")\n",
    "        elif input_two == \"mad\":\n",
    "            return(\"Hello Newman!\")\n",
    "    \n",
    "    elif character == \"Kramer\":\n",
    "        input_two = input(\"Are you feeling awesome, thirsty, or unattractive?: \")\n",
    "        if input_two == \"awesome\":\n",
    "            return(\"I'm out there Jerry and I'm lovin' every minute of it!\")\n",
    "        elif input_two == \"thirsty\":\n",
    "            return(\"These pretzels are makin' me thirsty!\")\n",
    "        elif input_two == \"unattractive\":\n",
    "            return(\"Don't look at me Jerry. I'm hideous\")\n",
    "    \n",
    "    elif character == \"Elaine\":\n",
    "        input_two = input(\"Are you feeling self-doubt, vendictive, hungry or surprised?: \")\n",
    "        if input_two == (\"self-doubt\" or \"self doubt\"):\n",
    "            return(\"Is it possible I'm not as attractive as I think I am?\")\n",
    "        elif input_two == \"vendictive\":\n",
    "            return(\"Maybe the dingo ate your baby\")\n",
    "        elif input_two == \"hungry\":\n",
    "            return(\"It’s not fair people are seated first come, first served. It should be based on who’s hungriest.\")\n",
    "        elif input_two == \"surprised\":\n",
    "            return(\"I'm speechless. I am without speech\")\n",
    "    \n",
    "    elif character == \"George\":\n",
    "        input_two = input(\"Are you feeling good or bad today?: \")\n",
    "        if input_two == \"good\":\n",
    "            return(\"It's the summer of George\")\n",
    "        elif input_two == \"bad\":\n",
    "            input_three = input(\"Are you tired, defeated, torn, or deceitful?: \")\n",
    "            if input_three == \"tired\":\n",
    "                return(\"I love a good nap. Sometimes it's the only thing getting me outta bed in the morning.\")\n",
    "            elif input_three == \"defeated\":\n",
    "                return(\"Yeah, I'm a quitter. It's one of the few things I do well. I come from a long line of quitters\")\n",
    "            elif input_three == \"torn\":\n",
    "                return(\"A George divided against itself cannot stand\")\n",
    "            elif input_three == \"deceitful\":\n",
    "                return(\"Remember Jerry. It's not a lie if you believe it.\")\n",
    "    else:\n",
    "        return(\"You did not enter one of the top characters\")\n",
    "\n",
    "keep_playing = \"y\" \n",
    "user_input = input(\"Who is your favorite Seinfeld character? Jerry, Kramer, Elaine or George: \")\n",
    "\n",
    "while keep_playing == \"y\":\n",
    "    print(seinfeld_quote(user_input))\n",
    "    keep_playing = input(\"Want to try again? y/n: \")\n",
    "    if keep_playing != \"y\":\n",
    "        break\n",
    "    user_input =  input(\"Pick another character? Jerry, Kramer, Elaine or George: \")\n",
    "    \n",
    "    \n",
    "print(\"Thanks for playing. Have a Merry Festivus!\")"
   ]
  },
  {
   "cell_type": "code",
   "execution_count": null,
   "metadata": {},
   "outputs": [],
   "source": []
  }
 ],
 "metadata": {
  "kernelspec": {
   "display_name": "Python 3",
   "language": "python",
   "name": "python3"
  },
  "language_info": {
   "codemirror_mode": {
    "name": "ipython",
    "version": 3
   },
   "file_extension": ".py",
   "mimetype": "text/x-python",
   "name": "python",
   "nbconvert_exporter": "python",
   "pygments_lexer": "ipython3",
   "version": "3.8.3"
  }
 },
 "nbformat": 4,
 "nbformat_minor": 4
}
